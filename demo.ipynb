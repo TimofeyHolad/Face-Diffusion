{
 "cells": [
  {
   "cell_type": "code",
   "execution_count": 3,
   "metadata": {},
   "outputs": [],
   "source": [
    "from pathlib import Path\n",
    "import torch\n",
    "from torch.utils.data import Dataset, DataLoader\n",
    "import torchvision.transforms as tt\n",
    "from PIL import Image\n",
    "import matplotlib.pyplot as plt\n",
    "\n",
    "from custom_diffusion.diffusion import Diffusion\n",
    "from custom_diffusion.model import Unet"
   ]
  },
  {
   "cell_type": "code",
   "execution_count": null,
   "metadata": {},
   "outputs": [],
   "source": [
    "checkpoint_path = 'checkpoint_path'\n",
    "dataset_path = 'dataset_path'\n",
    "img_size = 64\n",
    "device = torch.device('cuda' if torch.cuda.is_available() else 'cpu')\n",
    "dtype= torch.float32"
   ]
  },
  {
   "cell_type": "code",
   "execution_count": null,
   "metadata": {},
   "outputs": [],
   "source": [
    "class FaceDataset(Dataset):\n",
    "    def load_img(self, file):\n",
    "        image = Image.open(file)\n",
    "        image.load()\n",
    "        return image\n",
    "    \n",
    "    def __init__(self, path, dataset_size=3143, img_size=64):\n",
    "        super().__init__()\n",
    "        assert dataset_size <= 3143, 'dataset_size is too big'\n",
    "        path = Path(path)\n",
    "        self.files = sorted(list(path.rglob('*.png')))[:dataset_size]\n",
    "        self.size = (img_size, img_size)\n",
    "        self.len_ = len(self.files)\n",
    "        transforms = tt.Compose([\n",
    "            tt.Resize(size=self.size),\n",
    "            tt.RandomHorizontalFlip(),\n",
    "            tt.ToTensor(),\n",
    "            tt.Lambda(lambda t: (t * 2) - 1)\n",
    "        ])\n",
    "        imgs = [transforms(self.load_img(file)) for file in self.files]\n",
    "        self.imgs = torch.stack(imgs).to(device, dtype=dtype)\n",
    "        \n",
    "    def __len__(self):\n",
    "        return self.len_\n",
    "    \n",
    "    def __getitem__(self, index):\n",
    "        return self.imgs[index]"
   ]
  },
  {
   "cell_type": "code",
   "execution_count": null,
   "metadata": {},
   "outputs": [],
   "source": [
    "faces = FaceDataset(path=dataset_path, img_size=img_size)\n",
    "loader = DataLoader(faces, batch_size=64)"
   ]
  },
  {
   "cell_type": "code",
   "execution_count": null,
   "metadata": {},
   "outputs": [],
   "source": [
    "def count_parameters(model):\n",
    "    return sum(p.numel() for p in model.parameters() if p.requires_grad)"
   ]
  },
  {
   "cell_type": "code",
   "execution_count": null,
   "metadata": {},
   "outputs": [],
   "source": [
    "unet = Unet(img_size=img_size, model_size=6, timestamps_num=1000, in_channels=3, out_channels=3)\n",
    "count_parameters(unet)"
   ]
  },
  {
   "cell_type": "code",
   "execution_count": null,
   "metadata": {},
   "outputs": [],
   "source": [
    "diffusion = Diffusion(Unet, T=1000, device=device, dtype=dtype)\n",
    "diffusion.load_state_dict(checkpoint_path)"
   ]
  },
  {
   "cell_type": "code",
   "execution_count": null,
   "metadata": {},
   "outputs": [],
   "source": [
    "x = next(iter(loader))[0]\n",
    "diffusion.forward_show(x)"
   ]
  },
  {
   "cell_type": "code",
   "execution_count": null,
   "metadata": {},
   "outputs": [],
   "source": [
    "losses = diffusion.train(loader,epochs=500, checkpoint_path='/kaggle/working/checkpoint.pth')"
   ]
  },
  {
   "cell_type": "code",
   "execution_count": null,
   "metadata": {},
   "outputs": [],
   "source": [
    "plt.plot(losses)"
   ]
  },
  {
   "cell_type": "code",
   "execution_count": null,
   "metadata": {},
   "outputs": [],
   "source": [
    "diffusion.backward_show()\n",
    "plt.show()"
   ]
  }
 ],
 "metadata": {
  "kernelspec": {
   "display_name": ".venv",
   "language": "python",
   "name": "python3"
  },
  "language_info": {
   "codemirror_mode": {
    "name": "ipython",
    "version": 3
   },
   "file_extension": ".py",
   "mimetype": "text/x-python",
   "name": "python",
   "nbconvert_exporter": "python",
   "pygments_lexer": "ipython3",
   "version": "3.11.6"
  }
 },
 "nbformat": 4,
 "nbformat_minor": 2
}
